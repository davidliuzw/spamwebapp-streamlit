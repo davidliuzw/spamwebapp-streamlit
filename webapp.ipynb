{
 "cells": [
  {
   "cell_type": "code",
   "execution_count": 1,
   "metadata": {},
   "outputs": [],
   "source": [
    "# web app\n",
    "# author: zaiwei\n",
    "\n",
    "import pickle\n",
    "# loaded_model = pickle.load(open('model.pkl', 'rb'))\n",
    "import pandas as pd\n",
    "import numpy as np\n",
    "import re"
   ]
  },
  {
   "cell_type": "code",
   "execution_count": 2,
   "metadata": {
    "tags": []
   },
   "outputs": [],
   "source": [
    "# all features' names\n",
    "my_list = ['word_freq_make',\n",
    " 'word_freq_address',\n",
    " 'word_freq_all',\n",
    " 'word_freq_3d',\n",
    " 'word_freq_our',\n",
    " 'word_freq_over',\n",
    " 'word_freq_remove',\n",
    " 'word_freq_internet',\n",
    " 'word_freq_order',\n",
    " 'word_freq_mail',\n",
    " 'word_freq_receive',\n",
    " 'word_freq_will',\n",
    " 'word_freq_people',\n",
    " 'word_freq_report',\n",
    " 'word_freq_addresses',\n",
    " 'word_freq_free',\n",
    " 'word_freq_business',\n",
    " 'word_freq_email',\n",
    " 'word_freq_you',\n",
    " 'word_freq_credit',\n",
    " 'word_freq_your',\n",
    " 'word_freq_font',\n",
    " 'word_freq_000',\n",
    " 'word_freq_money',\n",
    " 'word_freq_hp',\n",
    " 'word_freq_hpl',\n",
    " 'word_freq_george',\n",
    " 'word_freq_650',\n",
    " 'word_freq_lab',\n",
    " 'word_freq_labs',\n",
    " 'word_freq_telnet',\n",
    " 'word_freq_857',\n",
    " 'word_freq_data',\n",
    " 'word_freq_415',\n",
    " 'word_freq_85',\n",
    " 'word_freq_technology',\n",
    " 'word_freq_1999',\n",
    " 'word_freq_parts',\n",
    " 'word_freq_pm',\n",
    " 'word_freq_direct',\n",
    " 'word_freq_cs',\n",
    " 'word_freq_meeting',\n",
    " 'word_freq_original',\n",
    " 'word_freq_project',\n",
    " 'word_freq_re',\n",
    " 'word_freq_edu',\n",
    " 'word_freq_table',\n",
    " 'word_freq_conference',\n",
    " 'char_freq_;',\n",
    " 'char_freq_(:           ',\n",
    " 'char_freq_[:            ',\n",
    " 'char_freq_!:            ',\n",
    " 'char_freq_$:          ',\n",
    " 'char_freq_#:         ',\n",
    " 'capital_run_length_average: ',\n",
    " 'capital_run_length_longest:',\n",
    " 'capital_run_length_total: ']\n",
    "# I changed 'char_freq_[:            ' to 'char_freq_' during xgboost training\n",
    "col_list = ['word_freq_make',\n",
    " 'word_freq_address',\n",
    " 'word_freq_all',\n",
    " 'word_freq_3d',\n",
    " 'word_freq_our',\n",
    " 'word_freq_over',\n",
    " 'word_freq_remove',\n",
    " 'word_freq_internet',\n",
    " 'word_freq_order',\n",
    " 'word_freq_mail',\n",
    " 'word_freq_receive',\n",
    " 'word_freq_will',\n",
    " 'word_freq_people',\n",
    " 'word_freq_report',\n",
    " 'word_freq_addresses',\n",
    " 'word_freq_free',\n",
    " 'word_freq_business',\n",
    " 'word_freq_email',\n",
    " 'word_freq_you',\n",
    " 'word_freq_credit',\n",
    " 'word_freq_your',\n",
    " 'word_freq_font',\n",
    " 'word_freq_000',\n",
    " 'word_freq_money',\n",
    " 'word_freq_hp',\n",
    " 'word_freq_hpl',\n",
    " 'word_freq_george',\n",
    " 'word_freq_650',\n",
    " 'word_freq_lab',\n",
    " 'word_freq_labs',\n",
    " 'word_freq_telnet',\n",
    " 'word_freq_857',\n",
    " 'word_freq_data',\n",
    " 'word_freq_415',\n",
    " 'word_freq_85',\n",
    " 'word_freq_technology',\n",
    " 'word_freq_1999',\n",
    " 'word_freq_parts',\n",
    " 'word_freq_pm',\n",
    " 'word_freq_direct',\n",
    " 'word_freq_cs',\n",
    " 'word_freq_meeting',\n",
    " 'word_freq_original',\n",
    " 'word_freq_project',\n",
    " 'word_freq_re',\n",
    " 'word_freq_edu',\n",
    " 'word_freq_table',\n",
    " 'word_freq_conference',\n",
    " 'char_freq_;',\n",
    " 'char_freq_(:           ',\n",
    " 'char_freq_',\n",
    " 'char_freq_!:            ',\n",
    " 'char_freq_$:          ',\n",
    " 'char_freq_#:         ',\n",
    " 'capital_run_length_average: ',\n",
    " 'capital_run_length_longest:',\n",
    " 'capital_run_length_total: ']"
   ]
  },
  {
   "cell_type": "code",
   "execution_count": 3,
   "metadata": {},
   "outputs": [],
   "source": [
    "# get the target string\n",
    "str_list = []\n",
    "for i in range(54):\n",
    "    str_list.append(my_list[i][10:])"
   ]
  },
  {
   "cell_type": "code",
   "execution_count": 4,
   "metadata": {},
   "outputs": [],
   "source": [
    "my_string = 'you you'"
   ]
  },
  {
   "cell_type": "code",
   "execution_count": 5,
   "metadata": {
    "tags": []
   },
   "outputs": [],
   "source": [
    "my_data = []\n",
    "# 前面那些算frequncy的先按顺序放进去\n",
    "for i in range(54):\n",
    "    my_data.append(100 * my_string.count(str_list[i]) / len(my_string) )\n",
    "\n",
    "# get all uninterrupted sequences of capital letters in a list of strings\n",
    "string_len = re.findall('[A-Z]+[A-Z]+[A-Z]*', my_string)\n",
    "\n",
    "# average length of uninterrupted sequences of capital letters\n",
    "if len(string_len) != 0:\n",
    "    my_data.append(sum( map(len, string_len) ) / len(string_len))\n",
    "    # length of longest uninterrupted sequence of capital letters\n",
    "    my_data.append(len(max(string_len, key = len)))\n",
    "    # sum of length of uninterrupted sequences of capital letters\n",
    "    my_data.append(sum( map(len, string_len) ))\n",
    "else:\n",
    "    my_data.append(0)\n",
    "    my_data.append(0)\n",
    "    my_data.append(0)\n",
    "\n",
    "# convert to array and reshape to (57, 1)\n",
    "# my_data = np.array(my_data)\n",
    "# my_data.reshape(57, 1)"
   ]
  },
  {
   "cell_type": "code",
   "execution_count": 6,
   "metadata": {},
   "outputs": [],
   "source": [
    "loaded_model = pickle.load(open('/Users/david/Desktop/IntroDS/project/webapp/model.pkl', 'rb'))\n",
    "res = dict(zip(col_list, my_data))\n",
    "dft = pd.DataFrame([res])"
   ]
  },
  {
   "cell_type": "code",
   "execution_count": 7,
   "metadata": {},
   "outputs": [],
   "source": [
    "cols_when_model_builds = loaded_model.get_booster().feature_names\n",
    "dft = dft[cols_when_model_builds]"
   ]
  },
  {
   "cell_type": "code",
   "execution_count": 8,
   "metadata": {
    "tags": []
   },
   "outputs": [
    {
     "data": {
      "text/plain": [
       "array([0])"
      ]
     },
     "execution_count": 8,
     "metadata": {},
     "output_type": "execute_result"
    }
   ],
   "source": [
    "loaded_model.predict(dft)"
   ]
  },
  {
   "cell_type": "code",
   "execution_count": null,
   "metadata": {},
   "outputs": [],
   "source": []
  }
 ],
 "metadata": {
  "interpreter": {
   "hash": "a81ca466b29f08577a5a7f6f0791c25a83f518a737dd1a0a70815a991e0454a3"
  },
  "kernelspec": {
   "display_name": "Python 3.8.12 ('XGboost')",
   "language": "python",
   "name": "python3"
  },
  "language_info": {
   "codemirror_mode": {
    "name": "ipython",
    "version": 3
   },
   "file_extension": ".py",
   "mimetype": "text/x-python",
   "name": "python",
   "nbconvert_exporter": "python",
   "pygments_lexer": "ipython3",
   "version": "3.8.12"
  }
 },
 "nbformat": 4,
 "nbformat_minor": 4
}
